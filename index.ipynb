{
 "cells": [
  {
   "cell_type": "markdown",
   "metadata": {},
   "source": [
    "# Pure Python vs. Numpy - Lab\n",
    "\n",
    "## Introduction \n",
    "\n",
    "Numpy, Scipy, and Pandas provide a significant increase in computational efficiency with complex mathematical operations as compared to Python's built-in arithmetic functions. In this lab, you will calculate and compare the processing speed required for calculating a dot product using both basic arithmetic operations in Python and Numpy's `.dot()` method. \n",
    "\n",
    "## Objectives\n",
    "You will be able to:\n",
    "\n",
    "- Compare the performance of high-dimensional matrix operations in Numpy vs. pure Python\n",
    "\n",
    "## Problem \n",
    "\n",
    "Write a routine to calculate the dot product between two $200 \\times 200$ dimensional matrices using:\n",
    "\n",
    "a) Pure Python (no libraries)\n",
    "\n",
    "b) Numpy's `.dot()` method \n",
    "\n",
    "\n",
    "### Create two $200 \\times 200$ matrices in Python and fill them with random values using `np.random.rand()` "
   ]
  },
  {
   "cell_type": "code",
   "execution_count": 1,
   "metadata": {},
   "outputs": [],
   "source": [
    "# Compare 200x200 matrix-matrix multiplication speed\n",
    "import numpy as np\n",
    "\n",
    "# Set up the variables\n",
    "A = np.random.rand(200,200)\n",
    "B = np.random.rand(200,200)"
   ]
  },
  {
   "cell_type": "markdown",
   "metadata": {},
   "source": [
    "## Pure Python\n",
    "\n",
    "* Initialize a zeros-filled `numpy` matrix\n",
    "* In Python, calculate the dot product using the formula \n",
    "\n",
    "\n",
    "$$ \\large C_{i,j}= \\sum_k A_{i,k}B_{k,j}$$\n",
    "\n",
    "\n",
    "* Use Python's `timeit` library to calculate the processing time\n",
    "* [Visit this link](https://www.pythoncentral.io/time-a-python-function/) for an in-depth explanation on how to time a function or routine in Python\n",
    "\n",
    "**Hint**: Use a nested `for` loop for accessing, calculating, and storing each scalar value in the resulting matrix. "
   ]
  },
  {
   "cell_type": "code",
   "execution_count": 53,
   "metadata": {},
   "outputs": [
    {
     "name": "stdout",
     "output_type": "stream",
     "text": [
      "[[ 1  2  3]\n",
      " [ 4  5  6]\n",
      " [ 7  8  9]\n",
      " [10 11 12]]\n",
      "[[2 7]\n",
      " [1 2]\n",
      " [3 6]]\n",
      "[2]\n",
      "[2, 1]\n",
      "[2, 1, 3]\n",
      "[14]\n",
      "[14, 4]\n",
      "[14, 4, 12]\n",
      "[8]\n",
      "[8, 4]\n",
      "[8, 4, 12]\n",
      "[35]\n",
      "[35, 10]\n",
      "[35, 10, 30]\n",
      "[14]\n",
      "[14, 7]\n",
      "[14, 7, 21]\n",
      "[56]\n",
      "[56, 16]\n",
      "[56, 16, 48]\n",
      "[20]\n",
      "[20, 10]\n",
      "[20, 10, 30]\n",
      "[77]\n",
      "[77, 22]\n",
      "[77, 22, 66]\n"
     ]
    },
    {
     "data": {
      "text/plain": [
       "array([[  6.,  30.],\n",
       "       [ 24.,  75.],\n",
       "       [ 42., 120.],\n",
       "       [ 60., 165.]])"
      ]
     },
     "execution_count": 53,
     "metadata": {},
     "output_type": "execute_result"
    }
   ],
   "source": [
    "import numpy as np\n",
    "\n",
    "A = np.mat([[1, 2, 3], [4, 5, 6], [7, 8, 9], [10, 11, 12]]) \n",
    "B = np.mat([[2, 7], [1, 2], [3, 6]])\n",
    "\n",
    "def prod(A,B):\n",
    "    \n",
    "    import numpy as np\n",
    "    \n",
    "    if A.shape[1] == B.shape[0]:\n",
    "        m = np.zeros((A.shape[0], B.shape[1]))\n",
    "    else:\n",
    "        print(\"Dot product does not work with this size matrix\")\n",
    "    \n",
    "    for i in range(0, m.shape[0]):\n",
    "        for j in range(0, m.shape[1]):\n",
    "            r = []\n",
    "            for a in range(0, B.shape[0]):\n",
    "                r.append(A[i,j] * B[a, j])\n",
    "                print(r)\n",
    "            m[i][j] = sum(r)\n",
    "            \n",
    "    return m\n",
    "\n",
    "print(A)\n",
    "print(B)\n",
    "prod(A, B)"
   ]
  },
  {
   "cell_type": "code",
   "execution_count": 54,
   "metadata": {},
   "outputs": [
    {
     "name": "stdout",
     "output_type": "stream",
     "text": [
      "Pure Python time: 8.623384300000907 sec.\n"
     ]
    }
   ],
   "source": [
    "import numpy as np\n",
    "A = np.random.rand(200, 200)\n",
    "B = np.random.rand(200, 200)\n",
    "\n",
    "import timeit\n",
    "\n",
    "# Start the timer\n",
    "start = timeit.default_timer()\n",
    "\n",
    "# Matrix multiplication in pure Python\n",
    "# def prod(A,B):\n",
    "    \n",
    "#     import numpy as np\n",
    "    \n",
    "#     if A.shape[1] == B.shape[0]:\n",
    "#         mat = np.zeros(A.shape[0], B.shape[1])\n",
    "#         continue\n",
    "#     else:\n",
    "#         print(\"Dot product does not work with this size matrix\")\n",
    "    \n",
    "#     for i in range(0, mat.shape[0]):\n",
    "#         for j in range(0, mat.shape[1]):\n",
    "#             r = []\n",
    "#             for a in range(0, B.shape[0]):\n",
    "#                 r.append(A[i,j] * B[a, j])\n",
    "#             mat[i][j] = sum(r)\n",
    "#     return mat\n",
    "            \n",
    "\n",
    "prod = np.zeros((200, 200))\n",
    "\n",
    "for i in range(prod.shape[0]):\n",
    "    for j in range(prod.shape[0]):\n",
    "        for k in range(prod.shape[0]):\n",
    "            \n",
    "            prod[i, k] += A[i, j] * B[j, k]\n",
    "\n",
    "time_spent = timeit.default_timer() - start\n",
    "\n",
    "print('Pure Python time:', time_spent, 'sec.')"
   ]
  },
  {
   "cell_type": "markdown",
   "metadata": {},
   "source": [
    "## Numpy \n",
    "Set the timer and calculate the time taken by the `.dot()` method for multiplying $A$ and $B$ \n"
   ]
  },
  {
   "cell_type": "code",
   "execution_count": 55,
   "metadata": {},
   "outputs": [
    {
     "name": "stdout",
     "output_type": "stream",
     "text": [
      "Numpy time: 0.05045040000004519 sec.\n"
     ]
    }
   ],
   "source": [
    "# Start the timer\n",
    "start = timeit.default_timer()\n",
    "\n",
    "# Matrix multiplication in numpy\n",
    "prod = A.dot(B)\n",
    "\n",
    "time_spent = timeit.default_timer() - start\n",
    "print('Numpy time:', time_spent, 'sec.')"
   ]
  },
  {
   "cell_type": "markdown",
   "metadata": {},
   "source": [
    "### Your comments"
   ]
  },
  {
   "cell_type": "markdown",
   "metadata": {},
   "source": [
    "## Summary\n",
    "\n",
    "In this lab, you performed a quick comparison between calculating a dot product in Numpy vs pure Python. You saw that Numpy is computationally much more efficient than pure Python code because of the sophisticated implementation of Numpy source code. You're encouraged to always perform time tests to fully appreciate the use of an additional library in Python. "
   ]
  }
 ],
 "metadata": {
  "kernelspec": {
   "display_name": "Python 3",
   "language": "python",
   "name": "python3"
  },
  "language_info": {
   "codemirror_mode": {
    "name": "ipython",
    "version": 3
   },
   "file_extension": ".py",
   "mimetype": "text/x-python",
   "name": "python",
   "nbconvert_exporter": "python",
   "pygments_lexer": "ipython3",
   "version": "3.6.6"
  }
 },
 "nbformat": 4,
 "nbformat_minor": 2
}
